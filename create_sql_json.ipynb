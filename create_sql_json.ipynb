{
 "cells": [
  {
   "cell_type": "code",
   "execution_count": 59,
   "metadata": {},
   "outputs": [
    {
     "name": "stdout",
     "output_type": "stream",
     "text": [
      "{'host': 'data-analytics-course-2.c8g8r1deus2v.eu-central-1.rds.amazonaws.com', 'port': '5432', 'database': 'postgres', 'user': 'katjabucher', 'password': 'wIfMTchl5LEK8N3s'}\n",
      "The weather_stations_group_3 table was imported successfully.\n"
     ]
    }
   ],
   "source": [
    "## IMPORT AND MAKE DATAFRAME \n",
    "\n",
    "# Import requests package\n",
    "import requests\n",
    "\n",
    "# import pandas\n",
    "\n",
    "import pandas as pd\n",
    "\n",
    "# import json\n",
    "import json\n",
    "\n",
    "# import data jason file \n",
    "\n",
    "#r = 'data/lite.json' --> use when flatted\n",
    "\n",
    "# Create Data Frame\n",
    "\n",
    "#df = pd.read_json(r) --> use when flatted\n",
    "\n",
    "#load data using Python Json module --> use when to flatten\n",
    "with open('data/lite.json', 'r') as f:\n",
    "    data = json.loads(f.read())\n",
    "\n",
    "#normalizing data  --> only meta there is no record_path!\n",
    "df = pd.json_normalize(data, sep=\"_\", \n",
    "                                        meta= [\"id\",\n",
    "                                            [\"name\", \"en\"],\n",
    "                                            \"country\",\n",
    "                                            \"region\",\n",
    "                                            [\"identifiers\", \"national\"],\n",
    "                                            [\"identifiers\", \"wmo\"],\n",
    "                                            [\"identifiers\", \"icao\"],\n",
    "                                            [\"location\", \"latitude\"],\n",
    "                                            [\"location\", \"longitude\"],\n",
    "                                            [\"location\", \"elevation\"],\n",
    "                                            \"timezone\",\n",
    "                                            [\"inventory\", \"model\",\"start\"],\n",
    "                                            [\"inventory\", \"model\",\"end\"],\n",
    "                                            [\"inventory\",\"hourly\",\"start\"],\n",
    "                                            [\"inventory\",\"hourly\",\"end\"],\n",
    "                                            [\"inventory\",\"daily\",\"start\"],\n",
    "                                            [\"inventory\",\"daily\",\"end\"],\n",
    "                                            [\"inventory\",\"monthly\",\"start\"],\n",
    "                                            [\"inventory\",\"monthly\",\"end\"],\n",
    "                                            [\"inventory\",\"normals\",\"start\"],\n",
    "                                            [\"inventory\",\"normals\",\"end\"]])\n",
    "\n",
    "\n",
    "# show created columns\n",
    "#df.columns\n",
    "\n",
    "#print 5 rows\n",
    "df.head(5)\n",
    "\n",
    "# null Values check\n",
    "\n",
    "#df.info()\n",
    "\n",
    "# in sql database\n",
    "\n",
    "\n",
    "\n",
    "\n",
    "\n",
    "import psycopg2\n",
    "\n",
    "from sql_functions import get_engine\n",
    "\n",
    "# create a variable called engine using the get_engine function\n",
    "engine = get_engine()\n",
    "\n",
    "schema = 'cgn_analytics_22_3' # your course schema name, example 'hh_analytics_22_1\n",
    "table_name = 'weather_stations_group_3'\n",
    "\n",
    "if engine!=None:\n",
    "    try:\n",
    "        df.to_sql(name=table_name, # Name of SQL table\n",
    "                        con=engine, # Engine or connection\n",
    "                        schema=schema, # your class schema\n",
    "                        if_exists='replace', # Drop the table before inserting new values \n",
    "                        index=False, # Write DataFrame index as a column\n",
    "                        chunksize=5000, # Specify the number of rows in each batch to be written at a time\n",
    "                        method='multi') # Pass multiple values in a single INSERT clause\n",
    "        print(f\"The {table_name} table was imported successfully.\")\n",
    "    # Error handling\n",
    "    except (Exception, psycopg2.DatabaseError) as error:\n",
    "        print(error)\n",
    "        engine = None\n",
    "else:\n",
    "    print('No engine')\n",
    "\n",
    "# "
   ]
  },
  {
   "cell_type": "code",
   "execution_count": null,
   "metadata": {},
   "outputs": [],
   "source": [
    "\n",
    "\n",
    "#booleans = list(map(df.name_en.__contains__,airports))\n",
    "#print(booleans)"
   ]
  }
 ],
 "metadata": {
  "kernelspec": {
   "display_name": "Python 3.9.13 ('nf_sql')",
   "language": "python",
   "name": "python3"
  },
  "language_info": {
   "codemirror_mode": {
    "name": "ipython",
    "version": 3
   },
   "file_extension": ".py",
   "mimetype": "text/x-python",
   "name": "python",
   "nbconvert_exporter": "python",
   "pygments_lexer": "ipython3",
   "version": "3.9.13"
  },
  "orig_nbformat": 4,
  "vscode": {
   "interpreter": {
    "hash": "a81d278bed5b5b59425dcb5a82ce505657686243c184b4a6b67e69d01c4d432e"
   }
  }
 },
 "nbformat": 4,
 "nbformat_minor": 2
}
